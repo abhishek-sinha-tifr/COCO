{
 "cells": [
  {
   "cell_type": "code",
   "execution_count": 1,
   "id": "compliant-grant",
   "metadata": {},
   "outputs": [],
   "source": [
    "### Loading the required libraries \n",
    "import numpy as np\n",
    "import pandas as pd\n",
    "np.random.seed(7) ## n=100 and seed=5,7 seems to be working for violation\n",
    "\n",
    "### Decide what type of projection to use \n",
    "\n",
    "#from projection import projection_simplex_bisection as proj ### loading the simplex projection module\n",
    "#from projection import euclidean_projection as proj ### loading the Euclidean projection module\n",
    "from sklearn.preprocessing import StandardScaler"
   ]
  },
  {
   "cell_type": "code",
   "execution_count": 2,
   "id": "traditional-keyboard",
   "metadata": {},
   "outputs": [],
   "source": [
    "class COCO:\n",
    "    def __init__(self, n, T): ### n denotes the dimension of input\n",
    "        #self.D=np.sqrt(2) ### D denotes the Euclidean diameter of the feasible set, which is sqrt(2) for simplex\n",
    "        self.D=20 ### Diameter of the set for banknote classification\n",
    "        self.n=n \n",
    "        #self.x=np.array(proj(np.random.rand(n))).reshape(-1,1) ### n denotes the input dimension\n",
    "        self.x=np.array(proj(np.ones(n)/n)).reshape(-1,1)\n",
    "        self.step_size=0\n",
    "        self.grad_sum_sq=0 ### internal variable needed to compute the step size\n",
    "        self.sum_x=self.x ### internal variable required to get the average prediction\n",
    "        self.Q=0 ### initializing the cumulative constraint violation\n",
    "        self.TotalCost=0 ### initializing the total cost incurred\n",
    "        self.Lambda=1.0/(2*np.sqrt(T)) \n",
    "        self.V=1   ## setting the required parameters\n",
    "    \n",
    "        \n",
    "        \n",
    "        \n",
    "    def predict_COCO(self, grad):\n",
    "        self.x=np.array(proj(self.x-self.step_size*grad)).reshape(-1,1)\n",
    "        return\n",
    "    \n",
    "    def update_COCO(self, cost_val, constr_val):\n",
    "        self.Q = self.Q+constr_val\n",
    "        self.TotalCost=self.TotalCost+cost_val ## updating CCV and cost\n",
    "        self.sum_x=self.sum_x+self.x\n",
    "    \n",
    "    def surrogate_cost_grad(self, cost_grad, constr_grad): # returns the gradient of the surrogate cost function at x\n",
    "        grad=self.V*cost_grad.reshape(-1,1)+self.Lambda*np.exp(self.Lambda*self.Q)*constr_grad.reshape(-1,1)\n",
    "        self.grad_sum_sq=self.grad_sum_sq+np.linalg.norm(grad)**2\n",
    "        self.step_size=self.D/np.sqrt(2.0*self.grad_sum_sq) ### selecting step sizes using AdaGrad\n",
    "        return grad.reshape(-1,1)\n",
    "        \n",
    "        \n",
    "    \n",
    "        "
   ]
  },
  {
   "cell_type": "code",
   "execution_count": 3,
   "id": "static-dispute",
   "metadata": {},
   "outputs": [],
   "source": [
    "class Adversary_2Player:\n",
    "    \n",
    "    def __init__(self, n): # we are considering the single constraint case, i.e., m=1\n",
    "        self.n=n\n",
    "        self.id='2Player'\n",
    "        self.A=np.random.randn(n,n)\n",
    "        self.C_x=np.random.rand(n,1)\n",
    "        self.C_y=0.5*np.random.rand(n,1)  ## forcing a strict feasibility on every round\n",
    "        self.cost_grad_sum=np.zeros([n,1]) ## state variable used to compute regret\n",
    "    \n",
    "    def grad_f(self, x):\n",
    "        best_action=np.argmax((self.A.T)@x) # computes the current best action of the adversary\n",
    "        self.cost_grad_sum+=self.A[:,best_action].reshape(-1,1) # updating the sum of gradients of cost\n",
    "        return self.A[:,best_action].reshape(-1,1) # returns a column vector\n",
    "    \n",
    "    def f_val(self, x):\n",
    "        best_action=np.argmax((self.A.T)@x) # computes the current best action of the adversary\n",
    "        return (x.T@self.A[:,best_action])\n",
    "    \n",
    "    def grad_g(self, x):\n",
    "        best_action=np.argmax((self.A.T)@x) # computes the current best action of the adversary\n",
    "        if self.C_x.T@x+self.C_y[best_action]-1>0:\n",
    "            return self.C_x.reshape(-1,1)\n",
    "        else:\n",
    "            return np.zeros([int(self.n),1])\n",
    "    \n",
    "    def g_val(self,x):\n",
    "        best_action=np.argmax((self.A.T)@x) # computes the current best action of the adversary\n",
    "        return(max(0,self.C_x.T@x+self.C_y[best_action]-1))"
   ]
  },
  {
   "cell_type": "code",
   "execution_count": 4,
   "id": "absent-ranking",
   "metadata": {},
   "outputs": [],
   "source": [
    "class Adversary_Test:\n",
    "### solving the following offline optimization problem\n",
    "### https://www.wolframalpha.com/input?i=minimize+e%5Ex%2By%5E2%2C+s.t.+x%2By%3D1%2C+x%3E%3D0%2C+y%3E%3D0%2C+x%5E2%2B2.5*y%5E2%3C%3D1\n",
    "    def __init__(self,n):\n",
    "        self.n=n\n",
    "        self.id='Test'\n",
    "\n",
    "        \n",
    "    def grad_f(self, x):\n",
    "        return np.array([np.exp(x[0]), 2*x[1]]).reshape(-1,1)\n",
    "    \n",
    "    def grad_g(self, x):\n",
    "        if x[0]**2+2.5*x[1]**2-1>=0:\n",
    "            return np.array([2.0*x[0], 5*x[1]]).reshape(-1,1)\n",
    "        else:\n",
    "            return np.zeros([self.n,1])\n",
    "                             \n",
    "    def f_val(self,x):\n",
    "        return (np.exp(x[0])+x[1]**2)\n",
    "                             \n",
    "    def g_val(self, x):\n",
    "        return max(0, x[0]**2+2.5*x[1]**2-1)\n",
    "        "
   ]
  },
  {
   "cell_type": "code",
   "execution_count": 5,
   "id": "wireless-glossary",
   "metadata": {},
   "outputs": [],
   "source": [
    "class Adversary_classification:\n",
    "    \n",
    "    def __init__(self):\n",
    "        self.id='classification'\n",
    "        self.t=-1 ### counter indicates the current round number\n",
    "        self.MISS=0 ## counter to keep track of number of misses\n",
    "        self.N1=0 ## count of examples belonging to class 1\n",
    "        self.FA=0 ### counter to keep track of number of FA\n",
    "        self.N0=0 ## count of examples belonging to class 0\n",
    "        \n",
    "    \n",
    "    def grad_f(self, x):\n",
    "        self.t+=1 # the counter is incremented when a call to grad_f is made\n",
    "        hat_y=float(1.0/(1+np.exp(self.z[self.t,:]@x))) # computing the predicted value\n",
    "        return (-(1-self.y[self.t])*(1-hat_y)*self.z[self.t,:]).reshape(-1,1)\n",
    "        \n",
    "    \n",
    "    def grad_g(self, x):\n",
    "        hat_y=float(1.0/(1+np.exp(self.z[self.t,:]@x))) # computing the predicted value\n",
    "        return (self.y[self.t]*hat_y*self.z[self.t,:]).reshape(-1,1)\n",
    "        \n",
    "    \n",
    "    def f_val(self, x):\n",
    "        hat_y=float(1.0/(1+np.exp(self.z[self.t,:]@x))) # computing the predicted value\n",
    "        self.N0+=(1-self.y[self.t])\n",
    "        self.FA+=(1-self.y[self.t])*hat_y\n",
    "        self.N1+=self.y[self.t]\n",
    "        self.MISS+=self.y[self.t]*(1-hat_y)\n",
    "        return -(1-self.y[self.t])*np.log(1-hat_y)\n",
    "    \n",
    "    def g_val(self, x):\n",
    "        bias=-1\n",
    "        hat_y=float(1.0/(1+np.exp(self.z[self.t,:]@x))) # computing the predicted value\n",
    "        return -self.y[self.t]*(np.log(hat_y)-bias)\n",
    "    \n",
    "    "
   ]
  },
  {
   "cell_type": "code",
   "execution_count": 6,
   "id": "israeli-inflation",
   "metadata": {},
   "outputs": [],
   "source": [
    "class Banknote(Adversary_classification):\n",
    "    def __init__(self):\n",
    "        super().__init__()\n",
    "        self.id='banknote'\n",
    "        self.data=pd.read_csv('data/data_banknote_authentication.txt')\n",
    "        self.data.columns=['variance', 'skewness', 'curtosis', 'entropy', 'label']\n",
    "        self.data=self.data.sample(frac=1) ## randomly shuffling the rows\n",
    "        \n",
    "        self.z=np.array(self.data.iloc[:,0:4]) ## z denotes the feature vector matrix\n",
    "        ### appending an all-one column to account for the intercept term\n",
    "        l=pd.DataFrame(np.ones(len(self.data)))\n",
    "        self.z=np.append(self.z, l, axis=1)\n",
    "        \n",
    "        \n",
    "        object= StandardScaler()\n",
    "        self.z= object.fit_transform(self.z) ## preprocessing the feature vectors \n",
    "        self.y=np.array(self.data['label'])    ## y denotes the column of labels\n",
    "    "
   ]
  },
  {
   "cell_type": "code",
   "execution_count": 7,
   "id": "transparent-paste",
   "metadata": {},
   "outputs": [],
   "source": [
    "class LinearSep(Adversary_classification):\n",
    "    def __init__(self):\n",
    "        super().__init__()\n",
    "        self.id='linsep'\n",
    "        self.data=pd.read_csv('data/large_linearly_separable_data.csv')\n",
    "        self.data=self.data.sample(frac=1) ## randomly shuffling the rows\n",
    "        self.z=np.array(self.data.iloc[:,0:2]) ## z denotes the feature vector matrix\n",
    "        ### appending an all-one column to account for the intercept term\n",
    "        #l=pd.DataFrame(np.ones(len(self.data)))\n",
    "        #self.z=np.append(self.z, l, axis=1)\n",
    "        \n",
    "        \n",
    "        object= StandardScaler()\n",
    "        self.z= object.fit_transform(self.z) ## preprocessing the feature vectors \n",
    "        self.y=np.array(self.data['Label'])    ## y denotes the column of labels"
   ]
  },
  {
   "cell_type": "code",
   "execution_count": 8,
   "id": "adolescent-astrology",
   "metadata": {},
   "outputs": [],
   "source": [
    "class IrisDataset(Adversary_classification):\n",
    "    def __init__(self):\n",
    "        super().__init__()\n",
    "        self.id='iris'\n",
    "        self.data=pd.read_csv('data/Iris.csv')\n",
    "        self.data=self.data.replace('Iris-setosa', 0)\n",
    "        self.data=self.data.replace('Iris-versicolor', 1)\n",
    "        self.data=self.data.replace('Iris-virginica', 2)\n",
    "        self.data=self.data[self.data['Species']<1.5]\n",
    "        \n",
    "        self.data=self.data.sample(frac=1) ## randomly shuffling the rows\n",
    "        self.z=np.array(self.data.iloc[:,1:5]) ## z denotes the feature vector matrix\n",
    "        ### appending an all-one column to account for the intercept term\n",
    "        #l=pd.DataFrame(np.ones(len(self.data)))\n",
    "        #self.z=np.append(self.z, l, axis=1)\n",
    "        \n",
    "        \n",
    "        object= StandardScaler()\n",
    "        self.z= object.fit_transform(self.z) ## preprocessing the feature vectors \n",
    "        self.y=np.array(self.data['Species'])    ## y denotes the column of labels"
   ]
  },
  {
   "cell_type": "code",
   "execution_count": 9,
   "id": "american-eclipse",
   "metadata": {},
   "outputs": [
    {
     "name": "stdout",
     "output_type": "stream",
     "text": [
      "False Alarm rate: 0.015460916480958369 Miss rate: 5.566072351427032e-05\n"
     ]
    }
   ],
   "source": [
    "### Implements the driver code\n",
    "\n",
    "#n=4   # dimension of the action - 100 for 2 player, 4 for banknote authetication\n",
    "\n",
    "#adversary= Adversary_Test(n) ### Adversary object\n",
    "#adversary=Banknote()\n",
    "#adversary=LinearSep()\n",
    "#adversary=Adversary_2Player(n=100)\n",
    "adversary=IrisDataset()\n",
    "\n",
    "if adversary.id=='2Player':\n",
    "    n=100\n",
    "    T=100000\n",
    "    from projection import projection_simplex_bisection as proj ### loading the simplex projection module\n",
    "elif adversary.id=='banknote':\n",
    "    n=5\n",
    "    T=len(adversary.y) # 100000 for 2 player case number of steps -- seems like T needs to be large \n",
    "    from projection import euclidean_projection as proj ### loading the Euclidean projection module\n",
    "elif adversary.id=='linsep':\n",
    "    n=2\n",
    "    T=len(adversary.y) # 100000 for 2 player case number of steps -- seems like T needs to be large \n",
    "    from projection import euclidean_projection as proj ### loading the Euclidean projection module\n",
    "elif adversary.id=='iris':\n",
    "    n=4\n",
    "    T=len(adversary.y) # 100000 for 2 player case number of steps -- seems like T needs to be large \n",
    "    from projection import euclidean_projection as proj ### loading the Euclidean projection module\n",
    "##########################if \n",
    "\n",
    "\n",
    "coco = COCO(n,T) ### Algorithm object\n",
    "\n",
    "\n",
    "\n",
    "cost_vec=np.zeros([1,T])\n",
    "violation_vec=np.zeros([1,T]) ### Arrays to store the cumulative cost and violation incurred by COCO\n",
    "regret_vec=np.zeros([1,T])\n",
    "\n",
    "for t in range(T):\n",
    "    current_action=coco.x # getting the current action of the algorithm\n",
    "    \n",
    "    ## Calling adversary to get its choice of cost and constraint functions\n",
    "    cost_grad=adversary.grad_f(current_action)\n",
    "    constr_grad=adversary.grad_g(current_action)\n",
    "    cost_val=adversary.f_val(current_action)\n",
    "    constr_val=adversary.g_val(current_action)  ### getting adversary's choices\n",
    "    ## Calling COCO to update its internal states and to determine its next action\n",
    "    coco.update_COCO(cost_val, constr_val) ### updating internal states of the algorithm\n",
    "    surrogate_cost_grad=coco.surrogate_cost_grad(cost_grad, constr_grad) ### computing the gradient of the surrogate cost\n",
    "    \n",
    "    coco.predict_COCO(surrogate_cost_grad)  ### predicting the next_action\n",
    "    \n",
    "    #### recording the statistics\n",
    "    cost_vec[0,t]=coco.TotalCost\n",
    "    violation_vec[0,t]=coco.Q\n",
    "    if adversary.id=='2Player':\n",
    "        regret_vec[0,t]=coco.TotalCost - min(adversary.cost_grad_sum) ## this is a little erroneous as it computes regret over the entire admissible set\n",
    "   \n",
    " #### computing the number of classification errors\n",
    "if adversary.id=='banknote' or adversary.id=='linsep' or adversary.id=='iris':\n",
    "    print('False Alarm rate:',  adversary.FA/adversary.N0, 'Miss rate:', adversary.MISS/adversary.N1)\n"
   ]
  },
  {
   "cell_type": "code",
   "execution_count": 10,
   "id": "integrated-visiting",
   "metadata": {},
   "outputs": [],
   "source": [
    "## plotting the results\n",
    "#import pylab \n",
    "import seaborn as sns\n",
    "import matplotlib.pyplot as plt\n",
    "plt.rcParams['text.usetex'] = True\n",
    "#sns.set(style='ticks', palette='Set2')\n",
    "sns.set()\n",
    "\n",
    "sns.set_theme(\"paper\")\n",
    "sns.set_style(\"dark\")\n",
    "#sns.color_palette(\"gist_heat\")\n",
    "\n",
    "#ax = plt.plot(figsize=(10,6))\n",
    "#pylab.figure(1)\n",
    "#pylab.plot(range(T), violation_vec.T)\n",
    "#pylab.figure(2)\n",
    "#pylab.plot(range(T), regret_vec.T)"
   ]
  },
  {
   "cell_type": "code",
   "execution_count": 11,
   "id": "combined-programmer",
   "metadata": {},
   "outputs": [
    {
     "data": {
      "image/png": "[encoded data removed]",
      "text/plain": [
       "<Figure size 432x288 with 1 Axes>"
      ]
     },
     "metadata": {},
     "output_type": "display_data"
    }
   ],
   "source": [
    "#pylab.figure(2)\n",
    "#pylab.plot(range(T), cost_vec.T)\n",
    "#sum(coco.x)\n",
    "#plt.figure(dpi=1000)\n",
    "plt.ylabel(\"Regret\", fontsize=15)\n",
    "plt.xlabel(\"Rounds\", fontsize=15)\n",
    "plt.plot(range(T), cost_vec.T, linewidth = 1.8)\n",
    "plt.grid(linestyle = '--', linewidth = 0.7)\n",
    "plt.xticks(fontsize=12)\n",
    "plt.yticks(fontsize=12)\n",
    "plt.suptitle('Variation of Cost', fontsize=20)\n",
    "plt.savefig('Cost_variation_plt', dpi=1000)"
   ]
  },
  {
   "cell_type": "code",
   "execution_count": 12,
   "id": "unlike-edmonton",
   "metadata": {},
   "outputs": [
    {
     "data": {
      "image/png": "[encoded data removed]",
      "text/plain": [
       "<Figure size 432x288 with 1 Axes>"
      ]
     },
     "metadata": {},
     "output_type": "display_data"
    }
   ],
   "source": [
    "#plt.figure(dpi=1000)\n",
    "plt.ylabel(\"CCV\", fontsize=18)\n",
    "plt.xlabel(\"Rounds\", fontsize=18)\n",
    "plt.plot(range(T), violation_vec.T, linewidth = 2, linestyle='--')\n",
    "plt.grid(linestyle = '--', linewidth = 0.7)\n",
    "plt.xticks(fontsize=12)\n",
    "plt.yticks(fontsize=12)\n",
    "plt.suptitle('Variation of CCV', fontsize=20)\n",
    "plt.savefig('CCV_variation_plt', dpi=1500)"
   ]
  },
  {
   "cell_type": "code",
   "execution_count": 13,
   "id": "written-bride",
   "metadata": {},
   "outputs": [
    {
     "data": {
      "text/plain": [
       "188.2903127212168"
      ]
     },
     "execution_count": 13,
     "metadata": {},
     "output_type": "execute_result"
    }
   ],
   "source": [
    "coco.grad_sum_sq"
   ]
  },
  {
   "cell_type": "code",
   "execution_count": 22,
   "id": "generous-figure",
   "metadata": {},
   "outputs": [
    {
     "data": {
      "text/plain": [
       "array([0, 0, 1, 1, 0, 0, 1, 1, 1, 0, 0, 0, 1, 0, 1, 0, 0, 1, 0, 0, 1, 0,\n",
       "       0, 1, 0, 1, 1, 0, 1, 1, 1, 1, 0, 1, 0, 0, 0, 0, 0, 1, 1, 1, 1, 1,\n",
       "       0, 0, 1, 1, 0, 1, 0, 0, 0, 1, 0, 1, 1, 1, 0, 0, 1, 0, 0, 0, 0, 1,\n",
       "       0, 1, 1, 1, 1, 0, 1, 1, 1, 1, 1, 0, 0, 1, 1, 0, 0, 0, 0, 1, 0, 0,\n",
       "       0, 1, 1, 0, 1, 1, 0, 1, 1, 0, 1, 0])"
      ]
     },
     "execution_count": 22,
     "metadata": {},
     "output_type": "execute_result"
    }
   ],
   "source": [
    "adversary.y"
   ]
  },
  {
   "cell_type": "code",
   "execution_count": null,
   "id": "comparable-doctor",
   "metadata": {},
   "outputs": [],
   "source": []
  }
 ],
 "metadata": {
  "kernelspec": {
   "display_name": "Python 3",
   "language": "python",
   "name": "python3"
  },
  "language_info": {
   "codemirror_mode": {
    "name": "ipython",
    "version": 3
   },
   "file_extension": ".py",
   "mimetype": "text/x-python",
   "name": "python",
   "nbconvert_exporter": "python",
   "pygments_lexer": "ipython3",
   "version": "3.7.9"
  }
 },
 "nbformat": 4,
 "nbformat_minor": 5
}
