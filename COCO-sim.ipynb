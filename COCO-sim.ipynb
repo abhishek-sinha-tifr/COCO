{
 "cells": [
  {
   "cell_type": "code",
   "execution_count": 1,
   "id": "active-initial",
   "metadata": {},
   "outputs": [],
   "source": [
    "### Loading the required libraries \n",
    "import numpy as np\n",
    "import pandas as pd\n",
    "np.random.seed(7) ## n=100 and seed=5,7 seems to be working for violation\n",
    "\n",
    "### Decide what type of projection to use \n",
    "\n",
    "from projection import projection_simplex_bisection as proj ### loading the simplex projection module\n",
    "#from projection import euclidean_projection as proj ### loading the Euclidean projection module"
   ]
  },
  {
   "cell_type": "code",
   "execution_count": 2,
   "id": "animated-ukraine",
   "metadata": {},
   "outputs": [],
   "source": [
    "class COCO:\n",
    "    def __init__(self, n, T): ### n denotes the dimension of input\n",
    "        #self.D=np.sqrt(2) ### D denotes the Euclidean diameter of the feasible set, which is sqrt(2) for simplex\n",
    "        self.D=20 ### Diameter of the set for banknote classification\n",
    "        self.n=n \n",
    "        self.x=np.array(proj(np.random.rand(n))).reshape(-1,1) ### n denotes the input dimension\n",
    "        self.step_size=0\n",
    "        self.grad_sum_sq=0 ### internal variable needed to compute the step size\n",
    "        self.sum_x=self.x ### internal variable required to get the average prediction\n",
    "        self.Q=0 ### initializing the cumulative constraint violation\n",
    "        self.TotalCost=0 ### initializing the total cost incurred\n",
    "        self.Lambda=1.0/(2*np.sqrt(T)) \n",
    "        self.V=1   ## setting the required parameters\n",
    "    \n",
    "        \n",
    "        \n",
    "        \n",
    "    def predict_COCO(self, grad):\n",
    "        self.x=np.array(proj(self.x-self.step_size*grad)).reshape(-1,1)\n",
    "        return\n",
    "    \n",
    "    def update_COCO(self, cost_val, constr_val):\n",
    "        self.Q = self.Q+constr_val\n",
    "        self.TotalCost=self.TotalCost+cost_val ## updating the total violation and cost\n",
    "        self.sum_x=self.sum_x+self.x\n",
    "    \n",
    "    def surrogate_cost_grad(self, cost_grad, constr_grad): # returns the gradient of the surrogate cost function at x\n",
    "        grad=self.V*cost_grad.reshape(-1,1)+self.Lambda*np.exp(self.Lambda*self.Q)*constr_grad.reshape(-1,1)\n",
    "        self.grad_sum_sq=self.grad_sum_sq+np.linalg.norm(grad)**2\n",
    "        self.step_size=self.D/np.sqrt(2.0*self.grad_sum_sq) ### selecting step sizes using AdaGrad\n",
    "        return grad.reshape(-1,1)\n",
    "        \n",
    "        \n",
    "    \n",
    "        "
   ]
  },
  {
   "cell_type": "code",
   "execution_count": 3,
   "id": "looking-strip",
   "metadata": {},
   "outputs": [],
   "source": [
    "class Adversary_2Player:\n",
    "    \n",
    "    def __init__(self, n): # we are considering the single constraint case, i.e., m=1\n",
    "        self.n=n\n",
    "        self.A=np.random.randn(n,n)\n",
    "        self.C_x=np.random.rand(n,1)\n",
    "        self.C_y=0.5*np.random.rand(n,1)  ## forcing a strict feasibility on every round\n",
    "        self.cost_grad_sum=np.zeros([n,1]) ## state variable used to compute regret\n",
    "    \n",
    "    def grad_f(self, x):\n",
    "        best_action=np.argmax((self.A.T)@x) # computes the current best action of the adversary\n",
    "        self.cost_grad_sum+=self.A[:,best_action].reshape(-1,1) # updating the sum of gradients of cost\n",
    "        return self.A[:,best_action].reshape(-1,1) # returns a column vector\n",
    "    \n",
    "    def f_val(self, x):\n",
    "        best_action=np.argmax((self.A.T)@x) # computes the current best action of the adversary\n",
    "        return (x.T@self.A[:,best_action])\n",
    "    \n",
    "    def grad_g(self, x):\n",
    "        best_action=np.argmax((self.A.T)@x) # computes the current best action of the adversary\n",
    "        if self.C_x.T@x+self.C_y[best_action]-1>0:\n",
    "            return self.C_x.reshape(-1,1)\n",
    "        else:\n",
    "            return np.zeros([int(self.n),1])\n",
    "    \n",
    "    def g_val(self,x):\n",
    "        best_action=np.argmax((self.A.T)@x) # computes the current best action of the adversary\n",
    "        return(max(0,self.C_x.T@x+self.C_y[best_action]-1))"
   ]
  },
  {
   "cell_type": "code",
   "execution_count": 4,
   "id": "isolated-indonesian",
   "metadata": {},
   "outputs": [],
   "source": [
    "class Adversary_Test:\n",
    "### solving the following problem\n",
    "### https://www.wolframalpha.com/input?i=minimize+e%5Ex%2By%5E2%2C+s.t.+x%2By%3D1%2C+x%3E%3D0%2C+y%3E%3D0%2C+x%5E2%2B2.5*y%5E2%3C%3D1\n",
    "    def __init__(self,n):\n",
    "        self.n=n\n",
    "\n",
    "        \n",
    "    def grad_f(self, x):\n",
    "        return np.array([np.exp(x[0]), 2*x[1]]).reshape(-1,1)\n",
    "    \n",
    "    def grad_g(self, x):\n",
    "        if x[0]**2+2.5*x[1]**2-1>=0:\n",
    "            return np.array([2.0*x[0], 5*x[1]]).reshape(-1,1)\n",
    "        else:\n",
    "            return np.zeros([self.n,1])\n",
    "                             \n",
    "    def f_val(self,x):\n",
    "        return (np.exp(x[0])+x[1]**2)\n",
    "                             \n",
    "    def g_val(self, x):\n",
    "        return max(0, x[0]**2+2.5*x[1]**2-1)\n",
    "        "
   ]
  },
  {
   "cell_type": "code",
   "execution_count": 5,
   "id": "hazardous-stuart",
   "metadata": {},
   "outputs": [],
   "source": [
    "class Adversary_banknote_authentication:\n",
    "    \n",
    "    def __init__(self):\n",
    "        self.t=0 ### counter indicates the current round number\n",
    "        self.data=pd.read_csv('data/data_banknote_authentication.txt')\n",
    "        self.data.columns=['variance', 'skewness', 'curtosis', 'entropy', 'label']\n",
    "        self.data=self.data.sample(frac=1) ## randomly shuffling the rows\n",
    "        self.z=self.data.iloc[:,0:4] ## z denotes the feature vector matrix\n",
    "        self.y=self.data['label']    ## y denotes the column of labels\n",
    "    \n",
    "    def grad_f(self, x):\n",
    "        self.t+=1 # the counter is incremented when a call to grad_f is made\n",
    "        pass\n",
    "    \n",
    "    def grad_g(self, x):\n",
    "        pass\n",
    "    \n",
    "    def f_val(self, x):\n",
    "        pass\n",
    "    \n",
    "    def g_val(self, x):\n",
    "        pass\n",
    "    \n",
    "    "
   ]
  },
  {
   "cell_type": "code",
   "execution_count": 6,
   "id": "suited-cursor",
   "metadata": {},
   "outputs": [],
   "source": [
    "### Implements the driver code\n",
    "\n",
    "T=100000 # number of steps -- seems like T needs to be large for the constraint to be satisfied if the cost function\n",
    "## is not strongly convex\n",
    "n=100   # dimension of the action\n",
    "\n",
    "coco = COCO(n,T) ### Algorithm object\n",
    "\n",
    "#adversary= Adversary_Test(n) ### Adversary object\n",
    "#adversary=Adversary_banknote_authentication(n)\n",
    "adversary=Adversary_2Player(n)\n",
    "\n",
    "cost_vec=np.zeros([1,T])\n",
    "violation_vec=np.zeros([1,T]) ### Arrays to store the cumulative cost and violation incurred by COCO\n",
    "regret_vec=np.zeros([1,T])\n",
    "\n",
    "for t in range(T):\n",
    "    current_action=coco.x # getting the current action of the algorithm\n",
    "    \n",
    "    ## Calling adversary to get its choice of cost and constraint functions\n",
    "    cost_grad=adversary.grad_f(current_action)\n",
    "    constr_grad=adversary.grad_g(current_action)\n",
    "    cost_val=adversary.f_val(current_action)\n",
    "    constr_val=adversary.g_val(current_action)  ### getting adversary's choices\n",
    "    \n",
    "    ## Calling COCO to update its internal states and to determine its next action\n",
    "    coco.update_COCO(cost_val, constr_val) ### updating internal states of the algorithm\n",
    "    surrogate_cost_grad=coco.surrogate_cost_grad(cost_grad, constr_grad) ### computing the gradient of the surrogate cost\n",
    "    \n",
    "    coco.predict_COCO(surrogate_cost_grad)  ### predicting the next_action\n",
    "    \n",
    "    #### recording the statistics\n",
    "    cost_vec[0,t]=coco.TotalCost\n",
    "    violation_vec[0,t]=coco.Q\n",
    "    regret_vec[0,t]=coco.TotalCost - min(adversary.cost_grad_sum) ## this is a little erroneous as it computes regret over the entire admissible set\n",
    "    \n",
    "   \n"
   ]
  },
  {
   "cell_type": "code",
   "execution_count": 7,
   "id": "agricultural-floor",
   "metadata": {},
   "outputs": [
    {
     "data": {
      "text/html": [
       "<svg  width=\"330\" height=\"55\"><rect x=\"0\" y=\"0\" width=\"55\" height=\"55\" style=\"fill:#360000;stroke-width:2;stroke:rgb(255,255,255)\"/><rect x=\"55\" y=\"0\" width=\"55\" height=\"55\" style=\"fill:#6e0000;stroke-width:2;stroke:rgb(255,255,255)\"/><rect x=\"110\" y=\"0\" width=\"55\" height=\"55\" style=\"fill:#a30000;stroke-width:2;stroke:rgb(255,255,255)\"/><rect x=\"165\" y=\"0\" width=\"55\" height=\"55\" style=\"fill:#db2500;stroke-width:2;stroke:rgb(255,255,255)\"/><rect x=\"220\" y=\"0\" width=\"55\" height=\"55\" style=\"fill:#ff6d00;stroke-width:2;stroke:rgb(255,255,255)\"/><rect x=\"275\" y=\"0\" width=\"55\" height=\"55\" style=\"fill:#ffb76f;stroke-width:2;stroke:rgb(255,255,255)\"/></svg>"
      ],
      "text/plain": [
       "[(0.21176470588235294, 0.0, 0.0),\n",
       " (0.4294117647058823, 0.0, 0.0),\n",
       " (0.6411764705882352, 0.0, 0.0),\n",
       " (0.8588235294117647, 0.1450980392156862, 0.0),\n",
       " (1.0, 0.4274509803921569, 0.0),\n",
       " (1.0, 0.7176470588235293, 0.4352941176470586)]"
      ]
     },
     "execution_count": 7,
     "metadata": {},
     "output_type": "execute_result"
    }
   ],
   "source": [
    "## plotting the results\n",
    "#import pylab \n",
    "import seaborn as sns\n",
    "import matplotlib.pyplot as plt\n",
    "plt.rcParams['text.usetex'] = True\n",
    "#sns.set(style='ticks', palette='Set2')\n",
    "sns.set()\n",
    "\n",
    "sns.set_theme(\"paper\")\n",
    "sns.set_style(\"dark\")\n",
    "sns.color_palette(\"gist_heat\")\n",
    "\n",
    "#ax = plt.plot(figsize=(10,6))\n",
    "#pylab.figure(1)\n",
    "#pylab.plot(range(T), violation_vec.T)\n",
    "#pylab.figure(2)\n",
    "#pylab.plot(range(T), regret_vec.T)"
   ]
  },
  {
   "cell_type": "code",
   "execution_count": 10,
   "id": "verbal-tsunami",
   "metadata": {},
   "outputs": [
    {
     "data": {
      "image/png": "[encoded data removed]",
      "text/plain": [
       "<Figure size 432x288 with 1 Axes>"
      ]
     },
     "metadata": {},
     "output_type": "display_data"
    }
   ],
   "source": [
    "#pylab.figure(2)\n",
    "#pylab.plot(range(T), cost_vec.T)\n",
    "#sum(coco.x)\n",
    "#plt.figure(dpi=1000)\n",
    "plt.ylabel(\"Regret\", fontsize=15)\n",
    "plt.xlabel(\"Rounds\", fontsize=15)\n",
    "plt.plot(range(T), regret_vec.T, linewidth = 1.8)\n",
    "plt.grid(linestyle = '--', linewidth = 0.7)\n",
    "plt.xticks(fontsize=12)\n",
    "plt.yticks(fontsize=12)\n",
    "plt.suptitle('Variation of Regret', fontsize=20)\n",
    "plt.savefig('Regret_variation_plt', dpi=1000)"
   ]
  },
  {
   "cell_type": "code",
   "execution_count": 11,
   "id": "current-sword",
   "metadata": {},
   "outputs": [
    {
     "data": {
      "image/png": "[encoded data removed]",
      "text/plain": [
       "<Figure size 432x288 with 1 Axes>"
      ]
     },
     "metadata": {},
     "output_type": "display_data"
    }
   ],
   "source": [
    "#plt.figure(dpi=1000)\n",
    "plt.ylabel(\"CCV\", fontsize=18)\n",
    "plt.xlabel(\"Rounds\", fontsize=18)\n",
    "plt.plot(range(T), violation_vec.T, linewidth = 2, linestyle='--')\n",
    "plt.grid(linestyle = '--', linewidth = 0.7)\n",
    "plt.xticks(fontsize=12)\n",
    "plt.yticks(fontsize=12)\n",
    "plt.suptitle('Variation of CCV', fontsize=20)\n",
    "plt.savefig('CCV_variation_plt', dpi=1500)"
   ]
  },
  {
   "cell_type": "code",
   "execution_count": null,
   "id": "blank-bracelet",
   "metadata": {},
   "outputs": [],
   "source": []
  }
 ],
 "metadata": {
  "kernelspec": {
   "display_name": "Python 3",
   "language": "python",
   "name": "python3"
  },
  "language_info": {
   "codemirror_mode": {
    "name": "ipython",
    "version": 3
   },
   "file_extension": ".py",
   "mimetype": "text/x-python",
   "name": "python",
   "nbconvert_exporter": "python",
   "pygments_lexer": "ipython3",
   "version": "3.7.9"
  }
 },
 "nbformat": 4,
 "nbformat_minor": 5
}
